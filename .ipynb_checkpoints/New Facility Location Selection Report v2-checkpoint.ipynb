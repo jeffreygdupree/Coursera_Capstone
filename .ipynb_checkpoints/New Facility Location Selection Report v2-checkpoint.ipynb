{
 "cells": [
  {
   "cell_type": "markdown",
   "metadata": {},
   "source": [
    "# Final Project:\n",
    "## New Facility Location Selection\n",
    "### by: Jeffrey Dupree"
   ]
  },
  {
   "cell_type": "markdown",
   "metadata": {},
   "source": [
    "## Table of contents\n",
    "* [Introduction: Business Problem](#introduction)\n",
    "* [Data](#data)\n",
    "* [Methodology](#methodology)\n",
    "* [Analysis](#analysis)\n",
    "* [Results and Discussion](#results)\n",
    "* [Conclusion](#conclusion)"
   ]
  },
  {
   "cell_type": "markdown",
   "metadata": {},
   "source": [
    "## Introduction: Business Problem <a name=\"introduction\"></a>"
   ]
  },
  {
   "cell_type": "markdown",
   "metadata": {},
   "source": [
    "The owner of several successful gyms wants to open a new facility in Tampa, FL. They want to ensure that the gym’s location is in an area not already saturated with gyms and other businesses that might compete with a new gym. This initial analysis will be to determine to a neighborhood level, where to consider placing the new gym facility. Later analysis and research of available real estate will be required to select the final location. That is beyond the scope of this analysis.\n",
    "\n",
    "In order to conduct this analysis, we must collect:\n",
    "* Zip Codes in Tampa, FL\n",
    "* Zip Code locations (latitude/longitude)\n",
    "* Zip Code boundaries\n",
    "* Business type and frequency\n"
   ]
  },
  {
   "cell_type": "code",
   "execution_count": 1,
   "metadata": {},
   "outputs": [],
   "source": [
    "%%capture \n",
    "\n",
    "# If you don't have these packages available, uncomment the appropriate lines below to install them.\n",
    "import sys\n",
    "#!{sys.executable} -m pip install beautifulsoup4\n",
    "#!{sys.executable} -m pip install lxml\n",
    "#!{sys.executable} -m pip install requests\n",
    "#!{sys.executable} -m pip install --upgrade geopy==1.20.0 #Must specify version 1.20.0 for country_codes argument to work.\n",
    "#!{sys.executable} -m pip install geojson\n",
    "#!conda install -c conda-forge folium=0.5.0 --yes\n",
    "\n",
    "from bs4 import BeautifulSoup #For scaping and rendering webpages.\n",
    "import requests\n",
    "import pandas as pd\n",
    "import numpy as np\n",
    "import re #This will allow use of regular expressions (regex)\n",
    "from tqdm import tqdm   #This will allow a progress bar to show that there is progress being made. This is helpful when an\n",
    "                        #iterative process may take more than a few seconds.\n",
    "import geopy\n",
    "from geopy.geocoders import Nominatim\n",
    "from geopy.extra.rate_limiter import RateLimiter #This will get around getting shut down for too many request errors.\n",
    "from functools import partial #This will allow multiple arguments to be passed to RateLimiter and geocode.\n",
    "import json #Library to handle JSON files\n",
    "from pandas.io.json import json_normalize #Tranform JSON file into a pandas dataframe\n",
    "import matplotlib.cm as cm #Matplotlib and associated plotting modules\n",
    "import matplotlib.colors as colors\n",
    "import folium #Map rendering library\n",
    "import urllib\n",
    "import geojson\n",
    "from geojson import Feature, Point, FeatureCollection, MultiPolygon"
   ]
  },
  {
   "cell_type": "markdown",
   "metadata": {},
   "source": [
    "## Data <a name=\"data\"></a>"
   ]
  },
  {
   "cell_type": "markdown",
   "metadata": {},
   "source": [
    "### Zip Codes\n",
    "To begin with, the analysis will need specific Zip Code data for Tampa, FL."
   ]
  },
  {
   "cell_type": "markdown",
   "metadata": {},
   "source": [
    "<b>Step one:</b> Identify the list of Zip Codes that correspond to Tampa, FL. For that, this notebook will scrape information from a ZIP-CODES.COM page https://www.zip-codes.com/state/fl.asp#zipcodes to create a dataframe consisting of the Zip Code, the City name, County name and the Zip Code type.\n",
    "Use the BeautifulSoup package to scrape the information from the webpage. I used the lxml parsing method, but you can use any you like.\n",
    "Find the table using `soup.find` from BeautifulSoup. Initially, the analyst must display the structure and content of the table (a portion shown below). Once the analyst understands the structure, they can develop the logic required to extract the desired elements in the next steps."
   ]
  },
  {
   "cell_type": "code",
   "execution_count": 2,
   "metadata": {},
   "outputs": [],
   "source": [
    "source = requests.get('https://www.zip-codes.com/state/fl.asp#zipcodes').text"
   ]
  },
  {
   "cell_type": "code",
   "execution_count": 3,
   "metadata": {
    "scrolled": true
   },
   "outputs": [],
   "source": [
    "soup = BeautifulSoup(source, 'lxml')"
   ]
  },
  {
   "cell_type": "code",
   "execution_count": 4,
   "metadata": {},
   "outputs": [
    {
     "name": "stdout",
     "output_type": "stream",
     "text": [
      "<table border=\"0\" cellpadding=\"0\" cellspacing=\"0\" class=\"statTable\" id=\"tblZIP\" title=\"All Florida ZIP Codes, City, County, Classification, and Area Codes.\" width=\"99%\">\n",
      " <tr>\n",
      "  <td class=\"label\" title=\"All ZIP Codes for Florida\">\n",
      "   <strong>\n",
      "    ZIP Code\n",
      "   </strong>\n",
      "  </td>\n",
      "  <td class=\"info\" title=\"The official city name as designated by the USPS.\">\n",
      "   <strong>\n",
      "    City\n",
      "   </strong>\n",
      "  </td>\n",
      "  <td class=\"info\" title=\"The primary county or parish this ZIP Code serves.\">\n",
      "   <strong>\n"
     ]
    }
   ],
   "source": [
    "table = soup.find(id=\"tblZIP\")\n",
    "print(table.prettify()[0:487]) # Only printing the first 987 characters in the string as an example. Remove [0:487] to see entire output."
   ]
  },
  {
   "cell_type": "code",
   "execution_count": 5,
   "metadata": {
    "scrolled": true
   },
   "outputs": [],
   "source": [
    "table_rows = table.find_all('tr')\n",
    "\n",
    "res = []\n",
    "for tr in table_rows:\n",
    "    td = tr.find_all('td')\n",
    "    row = [tr.text.strip() for tr in td if tr.text.strip()]\n",
    "    if row:\n",
    "        res.append(row)\n",
    "\n",
    "# Label the columns.\n",
    "df = pd.DataFrame(res[1:], columns=['Zip_Code','City','County','Type'])\n",
    "\n",
    "# Remove the text 'Zip Code' from the records in the Zip Code column.\n",
    "df['Zip_Code'] = df['Zip_Code'].str[-5:]\n",
    "\n",
    "# Select only the Zip Codes for Tampa, FL.\n",
    "df = df.loc[df['City'] == \"Tampa\"]"
   ]
  },
  {
   "cell_type": "code",
   "execution_count": 6,
   "metadata": {
    "scrolled": true
   },
   "outputs": [],
   "source": [
    "# Remove rows with Type = \"P.O. Box\" and \"Unique\", and reset the index to start at 0\n",
    "df = df[df.Type == 'Standard']\n",
    "df = df.reset_index(drop=True)"
   ]
  },
  {
   "cell_type": "markdown",
   "metadata": {},
   "source": [
    "Now a pandas dataframe needs to be created. This will require looping through the elements from the table and assigning the elements to a list. The list can then be made into a dataframe using `pd.DataFrame`. The columns will need header names. I manually assigned these instead of pulling them from the BeautifulSoup object `table`.\n",
    "Next remove the rows where the type is \"P.O. Box\". The first five rows of the resulting dataframe look like this."
   ]
  },
  {
   "cell_type": "code",
   "execution_count": 7,
   "metadata": {
    "scrolled": true
   },
   "outputs": [
    {
     "data": {
      "text/html": [
       "<div>\n",
       "<style scoped>\n",
       "    .dataframe tbody tr th:only-of-type {\n",
       "        vertical-align: middle;\n",
       "    }\n",
       "\n",
       "    .dataframe tbody tr th {\n",
       "        vertical-align: top;\n",
       "    }\n",
       "\n",
       "    .dataframe thead th {\n",
       "        text-align: right;\n",
       "    }\n",
       "</style>\n",
       "<table border=\"1\" class=\"dataframe\">\n",
       "  <thead>\n",
       "    <tr style=\"text-align: right;\">\n",
       "      <th></th>\n",
       "      <th>Zip_Code</th>\n",
       "      <th>City</th>\n",
       "      <th>County</th>\n",
       "      <th>Type</th>\n",
       "    </tr>\n",
       "  </thead>\n",
       "  <tbody>\n",
       "    <tr>\n",
       "      <td>0</td>\n",
       "      <td>33602</td>\n",
       "      <td>Tampa</td>\n",
       "      <td>Hillsborough</td>\n",
       "      <td>Standard</td>\n",
       "    </tr>\n",
       "    <tr>\n",
       "      <td>1</td>\n",
       "      <td>33603</td>\n",
       "      <td>Tampa</td>\n",
       "      <td>Hillsborough</td>\n",
       "      <td>Standard</td>\n",
       "    </tr>\n",
       "    <tr>\n",
       "      <td>2</td>\n",
       "      <td>33604</td>\n",
       "      <td>Tampa</td>\n",
       "      <td>Hillsborough</td>\n",
       "      <td>Standard</td>\n",
       "    </tr>\n",
       "    <tr>\n",
       "      <td>3</td>\n",
       "      <td>33605</td>\n",
       "      <td>Tampa</td>\n",
       "      <td>Hillsborough</td>\n",
       "      <td>Standard</td>\n",
       "    </tr>\n",
       "    <tr>\n",
       "      <td>4</td>\n",
       "      <td>33606</td>\n",
       "      <td>Tampa</td>\n",
       "      <td>Hillsborough</td>\n",
       "      <td>Standard</td>\n",
       "    </tr>\n",
       "  </tbody>\n",
       "</table>\n",
       "</div>"
      ],
      "text/plain": [
       "  Zip_Code   City        County      Type\n",
       "0    33602  Tampa  Hillsborough  Standard\n",
       "1    33603  Tampa  Hillsborough  Standard\n",
       "2    33604  Tampa  Hillsborough  Standard\n",
       "3    33605  Tampa  Hillsborough  Standard\n",
       "4    33606  Tampa  Hillsborough  Standard"
      ]
     },
     "execution_count": 7,
     "metadata": {},
     "output_type": "execute_result"
    }
   ],
   "source": [
    "df.head()"
   ]
  },
  {
   "cell_type": "markdown",
   "metadata": {},
   "source": [
    "<b>Step two:</b> The locations of the Zip Codes (latitude and longitude) will need to be collected. This will be accomplished through Nominatim in the Geopy library. This leverages the OpenStreetMap (OSM) dataset application programming interface (API) to geolocate each Zip Code. This adds two rows (location, point) to the dataframe. The first five rows are shown here."
   ]
  },
  {
   "cell_type": "code",
   "execution_count": 8,
   "metadata": {},
   "outputs": [],
   "source": [
    "# @hidden_cell\n",
    "user_agent = \"JGD_20191006\""
   ]
  },
  {
   "cell_type": "code",
   "execution_count": 9,
   "metadata": {},
   "outputs": [
    {
     "name": "stderr",
     "output_type": "stream",
     "text": [
      "C:\\Users\\JeffDupree\\Anaconda3\\lib\\site-packages\\tqdm\\std.py:648: FutureWarning: The Panel class is removed from pandas. Accessing it from the top-level namespace will also be removed in the next version\n",
      "  from pandas import Panel\n"
     ]
    },
    {
     "data": {
      "text/html": [
       "<div>\n",
       "<style scoped>\n",
       "    .dataframe tbody tr th:only-of-type {\n",
       "        vertical-align: middle;\n",
       "    }\n",
       "\n",
       "    .dataframe tbody tr th {\n",
       "        vertical-align: top;\n",
       "    }\n",
       "\n",
       "    .dataframe thead th {\n",
       "        text-align: right;\n",
       "    }\n",
       "</style>\n",
       "<table border=\"1\" class=\"dataframe\">\n",
       "  <thead>\n",
       "    <tr style=\"text-align: right;\">\n",
       "      <th></th>\n",
       "      <th>Zip_Code</th>\n",
       "      <th>City</th>\n",
       "      <th>County</th>\n",
       "      <th>Type</th>\n",
       "      <th>location</th>\n",
       "      <th>point</th>\n",
       "    </tr>\n",
       "  </thead>\n",
       "  <tbody>\n",
       "    <tr>\n",
       "      <td>0</td>\n",
       "      <td>33602</td>\n",
       "      <td>Tampa</td>\n",
       "      <td>Hillsborough</td>\n",
       "      <td>Standard</td>\n",
       "      <td>(Ybor City, Tampa, Hillsborough County, Florid...</td>\n",
       "      <td>(27.9516574, -82.449638, 0.0)</td>\n",
       "    </tr>\n",
       "    <tr>\n",
       "      <td>1</td>\n",
       "      <td>33603</td>\n",
       "      <td>Tampa</td>\n",
       "      <td>Hillsborough</td>\n",
       "      <td>Standard</td>\n",
       "      <td>(Tampa, Hillsborough County, Florida, 33603, U...</td>\n",
       "      <td>(27.9823952329372, -82.4629461755015, 0.0)</td>\n",
       "    </tr>\n",
       "    <tr>\n",
       "      <td>2</td>\n",
       "      <td>33604</td>\n",
       "      <td>Tampa</td>\n",
       "      <td>Hillsborough</td>\n",
       "      <td>Standard</td>\n",
       "      <td>(Sulphur Springs, Tampa, Hillsborough County, ...</td>\n",
       "      <td>(28.0127051, -82.4665599, 0.0)</td>\n",
       "    </tr>\n",
       "    <tr>\n",
       "      <td>3</td>\n",
       "      <td>33605</td>\n",
       "      <td>Tampa</td>\n",
       "      <td>Hillsborough</td>\n",
       "      <td>Standard</td>\n",
       "      <td>(East Ybor, Tampa, Hillsborough County, Florid...</td>\n",
       "      <td>(27.96589, -82.4209639, 0.0)</td>\n",
       "    </tr>\n",
       "    <tr>\n",
       "      <td>4</td>\n",
       "      <td>33606</td>\n",
       "      <td>Tampa</td>\n",
       "      <td>Hillsborough</td>\n",
       "      <td>Standard</td>\n",
       "      <td>(Hyde Park, Tampa, Hillsborough County, Florid...</td>\n",
       "      <td>(27.9341317, -82.4680636, 0.0)</td>\n",
       "    </tr>\n",
       "  </tbody>\n",
       "</table>\n",
       "</div>"
      ],
      "text/plain": [
       "  Zip_Code   City        County      Type  \\\n",
       "0    33602  Tampa  Hillsborough  Standard   \n",
       "1    33603  Tampa  Hillsborough  Standard   \n",
       "2    33604  Tampa  Hillsborough  Standard   \n",
       "3    33605  Tampa  Hillsborough  Standard   \n",
       "4    33606  Tampa  Hillsborough  Standard   \n",
       "\n",
       "                                            location  \\\n",
       "0  (Ybor City, Tampa, Hillsborough County, Florid...   \n",
       "1  (Tampa, Hillsborough County, Florida, 33603, U...   \n",
       "2  (Sulphur Springs, Tampa, Hillsborough County, ...   \n",
       "3  (East Ybor, Tampa, Hillsborough County, Florid...   \n",
       "4  (Hyde Park, Tampa, Hillsborough County, Florid...   \n",
       "\n",
       "                                        point  \n",
       "0               (27.9516574, -82.449638, 0.0)  \n",
       "1  (27.9823952329372, -82.4629461755015, 0.0)  \n",
       "2              (28.0127051, -82.4665599, 0.0)  \n",
       "3                (27.96589, -82.4209639, 0.0)  \n",
       "4              (27.9341317, -82.4680636, 0.0)  "
      ]
     },
     "execution_count": 9,
     "metadata": {},
     "output_type": "execute_result"
    }
   ],
   "source": [
    "tqdm.pandas(disable=True) #Change 'disable=True' to 'disable=False' to show progress bar.\n",
    "geolocator = Nominatim(user_agent=user_agent)\n",
    "geocode = RateLimiter(geolocator.geocode, min_delay_seconds=0.5, max_retries=2, error_wait_seconds=5.0, swallow_exceptions=True, return_value_on_exception=None)\n",
    "df['location'] = df['Zip_Code'].progress_apply(partial(geocode, country_codes='us')) #Commented this out to troubleshoot. If uncommented removed '))' precedimg '#'.\n",
    "df['point'] = df['location'].apply(lambda loc: tuple(loc.point) if loc else None)\n",
    "df.head()"
   ]
  },
  {
   "cell_type": "code",
   "execution_count": 10,
   "metadata": {},
   "outputs": [],
   "source": [
    "df[['Latitude','Longitude','3']] = pd.DataFrame(df['point'].tolist(), index=df.index)\n",
    "df = df.drop(columns=['point','3'])"
   ]
  },
  {
   "cell_type": "markdown",
   "metadata": {},
   "source": [
    "Now the latitude and longitude values for each of the postal codes are separated out into respective columns. Next we take the first portion of the location string, removing everything after the first comma, then renaming the column \"Neighborhood\". The dataframe now looks like this."
   ]
  },
  {
   "cell_type": "code",
   "execution_count": 11,
   "metadata": {},
   "outputs": [],
   "source": [
    "df['location'] = df['location'].astype(str)\n",
    "df['location'] = df['location'].str.split(\", \").str[0].tolist()\n",
    "df = df.rename(columns={\"location\": \"Neighborhood\"})"
   ]
  },
  {
   "cell_type": "code",
   "execution_count": 12,
   "metadata": {
    "scrolled": true
   },
   "outputs": [
    {
     "data": {
      "text/html": [
       "<div>\n",
       "<style scoped>\n",
       "    .dataframe tbody tr th:only-of-type {\n",
       "        vertical-align: middle;\n",
       "    }\n",
       "\n",
       "    .dataframe tbody tr th {\n",
       "        vertical-align: top;\n",
       "    }\n",
       "\n",
       "    .dataframe thead th {\n",
       "        text-align: right;\n",
       "    }\n",
       "</style>\n",
       "<table border=\"1\" class=\"dataframe\">\n",
       "  <thead>\n",
       "    <tr style=\"text-align: right;\">\n",
       "      <th></th>\n",
       "      <th>Zip_Code</th>\n",
       "      <th>City</th>\n",
       "      <th>County</th>\n",
       "      <th>Type</th>\n",
       "      <th>Neighborhood</th>\n",
       "      <th>Latitude</th>\n",
       "      <th>Longitude</th>\n",
       "    </tr>\n",
       "  </thead>\n",
       "  <tbody>\n",
       "    <tr>\n",
       "      <td>0</td>\n",
       "      <td>33602</td>\n",
       "      <td>Tampa</td>\n",
       "      <td>Hillsborough</td>\n",
       "      <td>Standard</td>\n",
       "      <td>Ybor City</td>\n",
       "      <td>27.951657</td>\n",
       "      <td>-82.449638</td>\n",
       "    </tr>\n",
       "    <tr>\n",
       "      <td>1</td>\n",
       "      <td>33603</td>\n",
       "      <td>Tampa</td>\n",
       "      <td>Hillsborough</td>\n",
       "      <td>Standard</td>\n",
       "      <td>Tampa</td>\n",
       "      <td>27.982395</td>\n",
       "      <td>-82.462946</td>\n",
       "    </tr>\n",
       "    <tr>\n",
       "      <td>2</td>\n",
       "      <td>33604</td>\n",
       "      <td>Tampa</td>\n",
       "      <td>Hillsborough</td>\n",
       "      <td>Standard</td>\n",
       "      <td>Sulphur Springs</td>\n",
       "      <td>28.012705</td>\n",
       "      <td>-82.466560</td>\n",
       "    </tr>\n",
       "    <tr>\n",
       "      <td>3</td>\n",
       "      <td>33605</td>\n",
       "      <td>Tampa</td>\n",
       "      <td>Hillsborough</td>\n",
       "      <td>Standard</td>\n",
       "      <td>East Ybor</td>\n",
       "      <td>27.965890</td>\n",
       "      <td>-82.420964</td>\n",
       "    </tr>\n",
       "    <tr>\n",
       "      <td>4</td>\n",
       "      <td>33606</td>\n",
       "      <td>Tampa</td>\n",
       "      <td>Hillsborough</td>\n",
       "      <td>Standard</td>\n",
       "      <td>Hyde Park</td>\n",
       "      <td>27.934132</td>\n",
       "      <td>-82.468064</td>\n",
       "    </tr>\n",
       "  </tbody>\n",
       "</table>\n",
       "</div>"
      ],
      "text/plain": [
       "  Zip_Code   City        County      Type     Neighborhood   Latitude  \\\n",
       "0    33602  Tampa  Hillsborough  Standard        Ybor City  27.951657   \n",
       "1    33603  Tampa  Hillsborough  Standard            Tampa  27.982395   \n",
       "2    33604  Tampa  Hillsborough  Standard  Sulphur Springs  28.012705   \n",
       "3    33605  Tampa  Hillsborough  Standard        East Ybor  27.965890   \n",
       "4    33606  Tampa  Hillsborough  Standard        Hyde Park  27.934132   \n",
       "\n",
       "   Longitude  \n",
       "0 -82.449638  \n",
       "1 -82.462946  \n",
       "2 -82.466560  \n",
       "3 -82.420964  \n",
       "4 -82.468064  "
      ]
     },
     "execution_count": 12,
     "metadata": {},
     "output_type": "execute_result"
    }
   ],
   "source": [
    "df.head()"
   ]
  },
  {
   "cell_type": "markdown",
   "metadata": {},
   "source": [
    "<b>Step three:</b> The last feature of Zip Code data needed are the boundaries of each Zip Code. These will be stored as latitudes and longitudes for the verices of polygons representing areas corresponding to each Zip Code. This data is downloaded as a GeoJSON file from https://opendata.arcgis.com/datasets/d356e19e0fb34524b54d189fafb0d675_0.geojson."
   ]
  },
  {
   "cell_type": "markdown",
   "metadata": {},
   "source": [
    "### Business Data\n",
    "Once the Zip Code data are collected, we need to collect the data on the surrounding businesses. We use the Foursquare API to collect data about the businesses near each Zip Code loaction."
   ]
  },
  {
   "cell_type": "markdown",
   "metadata": {},
   "source": [
    "## Methodology <a name=\"methodology\"></a>"
   ]
  },
  {
   "cell_type": "markdown",
   "metadata": {},
   "source": [
    "#### Locate Zip Codes Lacking Gyms\n",
    "We can start by visualizing the location of each zip code (based on the coordinates associated with it). The very first visualization is to plot the locations associated with each zip code to ensure that they fall within the intended area. These locations can also be labeled with information from the dataframe to make the graphic interactive. Selecting a point on the map reveals the Latitude, Longitude, and Neighborhood associated with that point."
   ]
  },
  {
   "cell_type": "code",
   "execution_count": 13,
   "metadata": {},
   "outputs": [
    {
     "data": {
      "text/html": [
       "<div style=\"width:100%;\"><div style=\"position:relative;width:100%;height:0;padding-bottom:60%;\"><iframe src=\"data:text/html;charset=utf-8;base64,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\" style=\"position:absolute;width:100%;height:100%;left:0;top:0;border:none !important;\" allowfullscreen webkitallowfullscreen mozallowfullscreen></iframe></div></div>"
      ],
      "text/plain": [
       "<folium.folium.Map at 0x2ba6df071c8>"
      ]
     },
     "execution_count": 13,
     "metadata": {},
     "output_type": "execute_result"
    }
   ],
   "source": [
    "# Create map of Tampa using latitude and longitude values\n",
    "tampa = geolocator.geocode({\"state\": \"fl\", \"city\": \"tampa\"})\n",
    "map_tampa = folium.Map(location=[tampa.latitude, tampa.longitude], zoom_start=11)\n",
    "\n",
    "# add markers to map\n",
    "for lat, lng, hood in zip(df['Latitude'], df['Longitude'], df['Neighborhood']):\n",
    "    label = '{}'.format(hood)\n",
    "    label = folium.Popup(label, parse_html=True)\n",
    "    folium.CircleMarker(\n",
    "        [lat, lng],\n",
    "        radius=5,\n",
    "        popup=label,\n",
    "        color='blue',\n",
    "        fill=True,\n",
    "        fill_color='#3186cc',\n",
    "        fill_opacity=0.7,\n",
    "        parse_html=False).add_to(map_tampa)  \n",
    "    \n",
    "map_tampa"
   ]
  },
  {
   "cell_type": "code",
   "execution_count": 14,
   "metadata": {},
   "outputs": [],
   "source": [
    "# @hidden_cell\n",
    "CLIENT_ID = 'MAI43NUPMV0YXXNFKS2XVGUPBMIB5SBO5T5W5FV4ZND2VTJW' # your Foursquare ID\n",
    "CLIENT_SECRET = 'V1POSAELWQ0NIURPOW2C43LH2FTO5NJ0VGYQXMSD2OGRLEND' # your Foursquare Secret\n",
    "VERSION = '20180604' # Foursquare API version"
   ]
  },
  {
   "cell_type": "markdown",
   "metadata": {},
   "source": [
    "A query of the Foursquare API returns the top 150 venues within 1000 meters of the zip code locations. The query is passed as a url using the `get()` command and returns a json formatted response. After reviewing the structure of the JSON, a function must be created to extract the venue category types associated with each zip code. The venues can then be placed in a table with the venue name, category, latitude, and longitude as columns. The first five rows of the table are shown here."
   ]
  },
  {
   "cell_type": "code",
   "execution_count": 15,
   "metadata": {},
   "outputs": [],
   "source": [
    "search_lat = df.Latitude[0]\n",
    "search_lon = df.Longitude[0]\n",
    "LIMIT = 150 # Limit of number of venues returned by Foursquare API\n",
    "radius = 1000 # Define radius in meters\n",
    "\n",
    "# Create URL\n",
    "url = 'https://api.foursquare.com/v2/venues/explore?&client_id={}&client_secret={}&v={}&ll={},{}&radius={}&limit={}'.format(\n",
    "    CLIENT_ID, \n",
    "    CLIENT_SECRET, \n",
    "    VERSION, \n",
    "    search_lat, \n",
    "    search_lon, \n",
    "    radius, \n",
    "    LIMIT)\n"
   ]
  },
  {
   "cell_type": "code",
   "execution_count": 16,
   "metadata": {
    "scrolled": true
   },
   "outputs": [],
   "source": [
    "results = requests.get(url).json()\n",
    "#results # Uncomment to see structure of JSON returned by get(url).json()."
   ]
  },
  {
   "cell_type": "code",
   "execution_count": 17,
   "metadata": {},
   "outputs": [],
   "source": [
    "# Function that extracts the category of the venue\n",
    "def get_category_type(row):\n",
    "    try:\n",
    "        categories_list = row['categories']\n",
    "    except:\n",
    "        categories_list = row['venue.categories']\n",
    "        \n",
    "    if len(categories_list) == 0:\n",
    "        return None\n",
    "    else:\n",
    "        return categories_list[0]['name']"
   ]
  },
  {
   "cell_type": "code",
   "execution_count": 18,
   "metadata": {},
   "outputs": [],
   "source": [
    "venues = results['response']['groups'][0]['items']\n",
    "#venues # Uncomment to see the results, potentially large."
   ]
  },
  {
   "cell_type": "code",
   "execution_count": 19,
   "metadata": {},
   "outputs": [],
   "source": [
    "# Flatten JSON\n",
    "nearby_venues = json_normalize(venues)"
   ]
  },
  {
   "cell_type": "code",
   "execution_count": 20,
   "metadata": {},
   "outputs": [],
   "source": [
    "# Filter columns\n",
    "filtered_columns = ['venue.name', 'venue.categories', 'venue.location.lat', 'venue.location.lng']\n",
    "nearby_venues = nearby_venues.loc[:, filtered_columns]"
   ]
  },
  {
   "cell_type": "code",
   "execution_count": 21,
   "metadata": {},
   "outputs": [],
   "source": [
    "# Filter the category for each row\n",
    "nearby_venues['venue.categories'] = nearby_venues.apply(get_category_type, axis=1)"
   ]
  },
  {
   "cell_type": "code",
   "execution_count": 22,
   "metadata": {},
   "outputs": [],
   "source": [
    "# Clean columns\n",
    "nearby_venues.columns = [col.split(\".\")[-1] for col in nearby_venues.columns]"
   ]
  },
  {
   "cell_type": "code",
   "execution_count": 23,
   "metadata": {},
   "outputs": [
    {
     "data": {
      "text/html": [
       "<div>\n",
       "<style scoped>\n",
       "    .dataframe tbody tr th:only-of-type {\n",
       "        vertical-align: middle;\n",
       "    }\n",
       "\n",
       "    .dataframe tbody tr th {\n",
       "        vertical-align: top;\n",
       "    }\n",
       "\n",
       "    .dataframe thead th {\n",
       "        text-align: right;\n",
       "    }\n",
       "</style>\n",
       "<table border=\"1\" class=\"dataframe\">\n",
       "  <thead>\n",
       "    <tr style=\"text-align: right;\">\n",
       "      <th></th>\n",
       "      <th>name</th>\n",
       "      <th>categories</th>\n",
       "      <th>lat</th>\n",
       "      <th>lng</th>\n",
       "    </tr>\n",
       "  </thead>\n",
       "  <tbody>\n",
       "    <tr>\n",
       "      <td>0</td>\n",
       "      <td>Pour House at Grand Central</td>\n",
       "      <td>Bar</td>\n",
       "      <td>27.951357</td>\n",
       "      <td>-82.447740</td>\n",
       "    </tr>\n",
       "    <tr>\n",
       "      <td>1</td>\n",
       "      <td>Crunch - Channelside</td>\n",
       "      <td>Gym / Fitness Center</td>\n",
       "      <td>27.951152</td>\n",
       "      <td>-82.447940</td>\n",
       "    </tr>\n",
       "    <tr>\n",
       "      <td>2</td>\n",
       "      <td>Cena</td>\n",
       "      <td>Italian Restaurant</td>\n",
       "      <td>27.951569</td>\n",
       "      <td>-82.447869</td>\n",
       "    </tr>\n",
       "    <tr>\n",
       "      <td>3</td>\n",
       "      <td>Publix - Channelside</td>\n",
       "      <td>Grocery Store</td>\n",
       "      <td>27.952128</td>\n",
       "      <td>-82.448741</td>\n",
       "    </tr>\n",
       "    <tr>\n",
       "      <td>4</td>\n",
       "      <td>City Dog Cantina</td>\n",
       "      <td>Mexican Restaurant</td>\n",
       "      <td>27.951118</td>\n",
       "      <td>-82.447726</td>\n",
       "    </tr>\n",
       "  </tbody>\n",
       "</table>\n",
       "</div>"
      ],
      "text/plain": [
       "                          name            categories        lat        lng\n",
       "0  Pour House at Grand Central                   Bar  27.951357 -82.447740\n",
       "1         Crunch - Channelside  Gym / Fitness Center  27.951152 -82.447940\n",
       "2                         Cena    Italian Restaurant  27.951569 -82.447869\n",
       "3         Publix - Channelside         Grocery Store  27.952128 -82.448741\n",
       "4             City Dog Cantina    Mexican Restaurant  27.951118 -82.447726"
      ]
     },
     "execution_count": 23,
     "metadata": {},
     "output_type": "execute_result"
    }
   ],
   "source": [
    "nearby_venues.head()"
   ]
  },
  {
   "cell_type": "markdown",
   "metadata": {},
   "source": [
    "We then create a function that uses the Foursquare API to find the nearby venues for all of the neighborhoods, by zip code. The `getNearbyVenues` function can then be applied to the dataframe to create a dataframe of the venues near the grid associated with each zip code. The first five rows of the resulting dataframe will look like this."
   ]
  },
  {
   "cell_type": "code",
   "execution_count": 24,
   "metadata": {},
   "outputs": [],
   "source": [
    "def getNearbyVenues(names, latitudes, longitudes, radius=1000):\n",
    "    \n",
    "    venues_list=[]\n",
    "    for name, lat, lng in zip(names, latitudes, longitudes):\n",
    "            \n",
    "        # Create the API request URL\n",
    "        url = 'https://api.foursquare.com/v2/venues/explore?&client_id={}&client_secret={}&v={}&ll={},{}&radius={}&limit={}'.format(\n",
    "            CLIENT_ID, \n",
    "            CLIENT_SECRET, \n",
    "            VERSION, \n",
    "            lat, \n",
    "            lng, \n",
    "            radius, \n",
    "            LIMIT)\n",
    "            \n",
    "        # Make the GET request\n",
    "        results = requests.get(url).json()['response']['groups'][0]['items']\n",
    "        \n",
    "        # Return only relevant information for each nearby venue\n",
    "        venues_list.append([(\n",
    "            name, \n",
    "            lat, \n",
    "            lng, \n",
    "            v['venue']['name'], \n",
    "            v['venue']['location']['lat'], \n",
    "            v['venue']['location']['lng'],  \n",
    "            v['venue']['categories'][0]['name']) for v in results])\n",
    "\n",
    "    nearby_venues = pd.DataFrame([item for venue_list in venues_list for item in venue_list])\n",
    "    nearby_venues.columns = ['Zip_Code', \n",
    "                  'Zip Latitude', \n",
    "                  'Zip Longitude', \n",
    "                  'Venue', \n",
    "                  'Venue Latitude', \n",
    "                  'Venue Longitude', \n",
    "                  'Venue Category']\n",
    "    \n",
    "    return(nearby_venues)"
   ]
  },
  {
   "cell_type": "code",
   "execution_count": 26,
   "metadata": {
    "scrolled": true
   },
   "outputs": [],
   "source": [
    "tampa_venues = getNearbyVenues(names=df['Zip_Code'],\n",
    "                                   latitudes=df['Latitude'],\n",
    "                                   longitudes=df['Longitude']\n",
    "                                  )"
   ]
  },
  {
   "cell_type": "code",
   "execution_count": 27,
   "metadata": {
    "scrolled": true
   },
   "outputs": [
    {
     "data": {
      "text/html": [
       "<div>\n",
       "<style scoped>\n",
       "    .dataframe tbody tr th:only-of-type {\n",
       "        vertical-align: middle;\n",
       "    }\n",
       "\n",
       "    .dataframe tbody tr th {\n",
       "        vertical-align: top;\n",
       "    }\n",
       "\n",
       "    .dataframe thead th {\n",
       "        text-align: right;\n",
       "    }\n",
       "</style>\n",
       "<table border=\"1\" class=\"dataframe\">\n",
       "  <thead>\n",
       "    <tr style=\"text-align: right;\">\n",
       "      <th></th>\n",
       "      <th>Zip_Code</th>\n",
       "      <th>Zip Latitude</th>\n",
       "      <th>Zip Longitude</th>\n",
       "      <th>Venue</th>\n",
       "      <th>Venue Latitude</th>\n",
       "      <th>Venue Longitude</th>\n",
       "      <th>Venue Category</th>\n",
       "    </tr>\n",
       "  </thead>\n",
       "  <tbody>\n",
       "    <tr>\n",
       "      <td>0</td>\n",
       "      <td>33602</td>\n",
       "      <td>27.951657</td>\n",
       "      <td>-82.449638</td>\n",
       "      <td>Pour House at Grand Central</td>\n",
       "      <td>27.951357</td>\n",
       "      <td>-82.447740</td>\n",
       "      <td>Bar</td>\n",
       "    </tr>\n",
       "    <tr>\n",
       "      <td>1</td>\n",
       "      <td>33602</td>\n",
       "      <td>27.951657</td>\n",
       "      <td>-82.449638</td>\n",
       "      <td>Crunch - Channelside</td>\n",
       "      <td>27.951152</td>\n",
       "      <td>-82.447940</td>\n",
       "      <td>Gym / Fitness Center</td>\n",
       "    </tr>\n",
       "    <tr>\n",
       "      <td>2</td>\n",
       "      <td>33602</td>\n",
       "      <td>27.951657</td>\n",
       "      <td>-82.449638</td>\n",
       "      <td>Cena</td>\n",
       "      <td>27.951569</td>\n",
       "      <td>-82.447869</td>\n",
       "      <td>Italian Restaurant</td>\n",
       "    </tr>\n",
       "    <tr>\n",
       "      <td>3</td>\n",
       "      <td>33602</td>\n",
       "      <td>27.951657</td>\n",
       "      <td>-82.449638</td>\n",
       "      <td>Publix - Channelside</td>\n",
       "      <td>27.952128</td>\n",
       "      <td>-82.448741</td>\n",
       "      <td>Grocery Store</td>\n",
       "    </tr>\n",
       "    <tr>\n",
       "      <td>4</td>\n",
       "      <td>33602</td>\n",
       "      <td>27.951657</td>\n",
       "      <td>-82.449638</td>\n",
       "      <td>City Dog Cantina</td>\n",
       "      <td>27.951118</td>\n",
       "      <td>-82.447726</td>\n",
       "      <td>Mexican Restaurant</td>\n",
       "    </tr>\n",
       "  </tbody>\n",
       "</table>\n",
       "</div>"
      ],
      "text/plain": [
       "  Zip_Code  Zip Latitude  Zip Longitude                        Venue  \\\n",
       "0    33602     27.951657     -82.449638  Pour House at Grand Central   \n",
       "1    33602     27.951657     -82.449638         Crunch - Channelside   \n",
       "2    33602     27.951657     -82.449638                         Cena   \n",
       "3    33602     27.951657     -82.449638         Publix - Channelside   \n",
       "4    33602     27.951657     -82.449638             City Dog Cantina   \n",
       "\n",
       "   Venue Latitude  Venue Longitude        Venue Category  \n",
       "0       27.951357       -82.447740                   Bar  \n",
       "1       27.951152       -82.447940  Gym / Fitness Center  \n",
       "2       27.951569       -82.447869    Italian Restaurant  \n",
       "3       27.952128       -82.448741         Grocery Store  \n",
       "4       27.951118       -82.447726    Mexican Restaurant  "
      ]
     },
     "execution_count": 27,
     "metadata": {},
     "output_type": "execute_result"
    }
   ],
   "source": [
    "#print(tampa_venues.shape)\n",
    "tampa_venues.head()"
   ]
  },
  {
   "cell_type": "markdown",
   "metadata": {},
   "source": [
    "Once all of the venues have been associated with neighborhoods by proximity, the frequency of venue types can be determined. However, before the frequency of each venue can be calculated, a list of the unique venue categories must be created and evaluated. This can be a very long list of more than 100 categories. Many of these categories can be very similar. For example the categories \"Gym / Fitness Center\" and \"Gym\" appear in the list. These two categories could be considered to be the same. Another venue that would compete with a gym is 'Military Base'. Military bases have gyms and fitness centers for military members at no cost. This could reduce the need for another gym in the area. We will need to recode any gym-like categories with a common category name (i.e., gym). This will require examining the list of unique categories and creating a list of the categories that should be recoded.\n",
    "We use one-hot encoding to determine if a venue type exists in a neighborhood. One-hot encoding will create a column for each of the unique categories, and assign a value of 1 if that venue type exists in the neighborhood or 0 otherwise for each row. A portion of that table would look like this."
   ]
  },
  {
   "cell_type": "code",
   "execution_count": 28,
   "metadata": {
    "scrolled": true
   },
   "outputs": [],
   "source": [
    "#tampa_venues['Venue Category'].unique()"
   ]
  },
  {
   "cell_type": "code",
   "execution_count": 29,
   "metadata": {},
   "outputs": [],
   "source": [
    "gym = ['Gym / Fitness Center', 'Park', 'Martial Arts Dojo', 'Gym', 'Pool', 'Tennis Court', 'Disc Golf', 'Volleyball Court',\n",
    "       'Soccer Field', 'Basketball Court', 'Yoga Studio', 'College Basketball Court', 'College Gym','College Track',\n",
    "       'Dance Studio', 'Military Base', 'Athletics & Sports', 'Golf Course', 'Baseball Field', 'Trail', 'Hockey Arena',\n",
    "       'Hockey Field', 'Track', 'Water Park', 'Outdoors & Recreation', 'State / Provincial Park', 'Playground']"
   ]
  },
  {
   "cell_type": "code",
   "execution_count": 30,
   "metadata": {},
   "outputs": [],
   "source": [
    "tampa_venues['Venue Category'].replace(to_replace = gym, value = \"Gym\", inplace = True)"
   ]
  },
  {
   "cell_type": "code",
   "execution_count": 31,
   "metadata": {
    "scrolled": true
   },
   "outputs": [
    {
     "data": {
      "text/html": [
       "<div>\n",
       "<style scoped>\n",
       "    .dataframe tbody tr th:only-of-type {\n",
       "        vertical-align: middle;\n",
       "    }\n",
       "\n",
       "    .dataframe tbody tr th {\n",
       "        vertical-align: top;\n",
       "    }\n",
       "\n",
       "    .dataframe thead th {\n",
       "        text-align: right;\n",
       "    }\n",
       "</style>\n",
       "<table border=\"1\" class=\"dataframe\">\n",
       "  <thead>\n",
       "    <tr style=\"text-align: right;\">\n",
       "      <th></th>\n",
       "      <th>Zip_Code</th>\n",
       "      <th>Accessories Store</th>\n",
       "      <th>Airport</th>\n",
       "      <th>Airport Lounge</th>\n",
       "      <th>Airport Service</th>\n",
       "      <th>American Restaurant</th>\n",
       "      <th>Antique Shop</th>\n",
       "      <th>Aquarium</th>\n",
       "      <th>Arcade</th>\n",
       "      <th>Art Gallery</th>\n",
       "      <th>...</th>\n",
       "      <th>Vegetarian / Vegan Restaurant</th>\n",
       "      <th>Video Game Store</th>\n",
       "      <th>Video Store</th>\n",
       "      <th>Vietnamese Restaurant</th>\n",
       "      <th>Waste Facility</th>\n",
       "      <th>Wine Bar</th>\n",
       "      <th>Wings Joint</th>\n",
       "      <th>Women's Store</th>\n",
       "      <th>Zoo</th>\n",
       "      <th>Zoo Exhibit</th>\n",
       "    </tr>\n",
       "  </thead>\n",
       "  <tbody>\n",
       "    <tr>\n",
       "      <td>0</td>\n",
       "      <td>33602</td>\n",
       "      <td>0</td>\n",
       "      <td>0</td>\n",
       "      <td>0</td>\n",
       "      <td>0</td>\n",
       "      <td>0</td>\n",
       "      <td>0</td>\n",
       "      <td>0</td>\n",
       "      <td>0</td>\n",
       "      <td>0</td>\n",
       "      <td>...</td>\n",
       "      <td>0</td>\n",
       "      <td>0</td>\n",
       "      <td>0</td>\n",
       "      <td>0</td>\n",
       "      <td>0</td>\n",
       "      <td>0</td>\n",
       "      <td>0</td>\n",
       "      <td>0</td>\n",
       "      <td>0</td>\n",
       "      <td>0</td>\n",
       "    </tr>\n",
       "    <tr>\n",
       "      <td>1</td>\n",
       "      <td>33602</td>\n",
       "      <td>0</td>\n",
       "      <td>0</td>\n",
       "      <td>0</td>\n",
       "      <td>0</td>\n",
       "      <td>0</td>\n",
       "      <td>0</td>\n",
       "      <td>0</td>\n",
       "      <td>0</td>\n",
       "      <td>0</td>\n",
       "      <td>...</td>\n",
       "      <td>0</td>\n",
       "      <td>0</td>\n",
       "      <td>0</td>\n",
       "      <td>0</td>\n",
       "      <td>0</td>\n",
       "      <td>0</td>\n",
       "      <td>0</td>\n",
       "      <td>0</td>\n",
       "      <td>0</td>\n",
       "      <td>0</td>\n",
       "    </tr>\n",
       "    <tr>\n",
       "      <td>2</td>\n",
       "      <td>33602</td>\n",
       "      <td>0</td>\n",
       "      <td>0</td>\n",
       "      <td>0</td>\n",
       "      <td>0</td>\n",
       "      <td>0</td>\n",
       "      <td>0</td>\n",
       "      <td>0</td>\n",
       "      <td>0</td>\n",
       "      <td>0</td>\n",
       "      <td>...</td>\n",
       "      <td>0</td>\n",
       "      <td>0</td>\n",
       "      <td>0</td>\n",
       "      <td>0</td>\n",
       "      <td>0</td>\n",
       "      <td>0</td>\n",
       "      <td>0</td>\n",
       "      <td>0</td>\n",
       "      <td>0</td>\n",
       "      <td>0</td>\n",
       "    </tr>\n",
       "    <tr>\n",
       "      <td>3</td>\n",
       "      <td>33602</td>\n",
       "      <td>0</td>\n",
       "      <td>0</td>\n",
       "      <td>0</td>\n",
       "      <td>0</td>\n",
       "      <td>0</td>\n",
       "      <td>0</td>\n",
       "      <td>0</td>\n",
       "      <td>0</td>\n",
       "      <td>0</td>\n",
       "      <td>...</td>\n",
       "      <td>0</td>\n",
       "      <td>0</td>\n",
       "      <td>0</td>\n",
       "      <td>0</td>\n",
       "      <td>0</td>\n",
       "      <td>0</td>\n",
       "      <td>0</td>\n",
       "      <td>0</td>\n",
       "      <td>0</td>\n",
       "      <td>0</td>\n",
       "    </tr>\n",
       "    <tr>\n",
       "      <td>4</td>\n",
       "      <td>33602</td>\n",
       "      <td>0</td>\n",
       "      <td>0</td>\n",
       "      <td>0</td>\n",
       "      <td>0</td>\n",
       "      <td>0</td>\n",
       "      <td>0</td>\n",
       "      <td>0</td>\n",
       "      <td>0</td>\n",
       "      <td>0</td>\n",
       "      <td>...</td>\n",
       "      <td>0</td>\n",
       "      <td>0</td>\n",
       "      <td>0</td>\n",
       "      <td>0</td>\n",
       "      <td>0</td>\n",
       "      <td>0</td>\n",
       "      <td>0</td>\n",
       "      <td>0</td>\n",
       "      <td>0</td>\n",
       "      <td>0</td>\n",
       "    </tr>\n",
       "  </tbody>\n",
       "</table>\n",
       "<p>5 rows × 178 columns</p>\n",
       "</div>"
      ],
      "text/plain": [
       "  Zip_Code  Accessories Store  Airport  Airport Lounge  Airport Service  \\\n",
       "0    33602                  0        0               0                0   \n",
       "1    33602                  0        0               0                0   \n",
       "2    33602                  0        0               0                0   \n",
       "3    33602                  0        0               0                0   \n",
       "4    33602                  0        0               0                0   \n",
       "\n",
       "   American Restaurant  Antique Shop  Aquarium  Arcade  Art Gallery  ...  \\\n",
       "0                    0             0         0       0            0  ...   \n",
       "1                    0             0         0       0            0  ...   \n",
       "2                    0             0         0       0            0  ...   \n",
       "3                    0             0         0       0            0  ...   \n",
       "4                    0             0         0       0            0  ...   \n",
       "\n",
       "   Vegetarian / Vegan Restaurant  Video Game Store  Video Store  \\\n",
       "0                              0                 0            0   \n",
       "1                              0                 0            0   \n",
       "2                              0                 0            0   \n",
       "3                              0                 0            0   \n",
       "4                              0                 0            0   \n",
       "\n",
       "   Vietnamese Restaurant  Waste Facility  Wine Bar  Wings Joint  \\\n",
       "0                      0               0         0            0   \n",
       "1                      0               0         0            0   \n",
       "2                      0               0         0            0   \n",
       "3                      0               0         0            0   \n",
       "4                      0               0         0            0   \n",
       "\n",
       "   Women's Store  Zoo  Zoo Exhibit  \n",
       "0              0    0            0  \n",
       "1              0    0            0  \n",
       "2              0    0            0  \n",
       "3              0    0            0  \n",
       "4              0    0            0  \n",
       "\n",
       "[5 rows x 178 columns]"
      ]
     },
     "execution_count": 31,
     "metadata": {},
     "output_type": "execute_result"
    }
   ],
   "source": [
    "# One hot encoding\n",
    "tampa_onehot = pd.get_dummies(tampa_venues[['Venue Category']], prefix=\"\", prefix_sep=\"\")\n",
    "\n",
    "# Add zip code column back to dataframe\n",
    "tampa_onehot['Zip_Code'] = tampa_venues['Zip_Code'] \n",
    "\n",
    "# Move zip code column to the first column\n",
    "fixed_columns = [tampa_onehot.columns[-1]] + list(tampa_onehot.columns[:-1])\n",
    "tampa_onehot = tampa_onehot[fixed_columns]\n",
    "\n",
    "tampa_onehot.head()"
   ]
  },
  {
   "cell_type": "markdown",
   "metadata": {},
   "source": [
    "With the one-hot encoded data, we can determine the frequency with which each venue type occurs in each borough. This results in a dataframe with a column for each unique venue type and a row for each unique borough."
   ]
  },
  {
   "cell_type": "code",
   "execution_count": 32,
   "metadata": {
    "scrolled": true
   },
   "outputs": [
    {
     "data": {
      "text/html": [
       "<div>\n",
       "<style scoped>\n",
       "    .dataframe tbody tr th:only-of-type {\n",
       "        vertical-align: middle;\n",
       "    }\n",
       "\n",
       "    .dataframe tbody tr th {\n",
       "        vertical-align: top;\n",
       "    }\n",
       "\n",
       "    .dataframe thead th {\n",
       "        text-align: right;\n",
       "    }\n",
       "</style>\n",
       "<table border=\"1\" class=\"dataframe\">\n",
       "  <thead>\n",
       "    <tr style=\"text-align: right;\">\n",
       "      <th></th>\n",
       "      <th>Zip_Code</th>\n",
       "      <th>Accessories Store</th>\n",
       "      <th>Airport</th>\n",
       "      <th>Airport Lounge</th>\n",
       "      <th>Airport Service</th>\n",
       "      <th>American Restaurant</th>\n",
       "      <th>Antique Shop</th>\n",
       "      <th>Aquarium</th>\n",
       "      <th>Arcade</th>\n",
       "      <th>Art Gallery</th>\n",
       "      <th>...</th>\n",
       "      <th>Vegetarian / Vegan Restaurant</th>\n",
       "      <th>Video Game Store</th>\n",
       "      <th>Video Store</th>\n",
       "      <th>Vietnamese Restaurant</th>\n",
       "      <th>Waste Facility</th>\n",
       "      <th>Wine Bar</th>\n",
       "      <th>Wings Joint</th>\n",
       "      <th>Women's Store</th>\n",
       "      <th>Zoo</th>\n",
       "      <th>Zoo Exhibit</th>\n",
       "    </tr>\n",
       "  </thead>\n",
       "  <tbody>\n",
       "    <tr>\n",
       "      <td>0</td>\n",
       "      <td>33602</td>\n",
       "      <td>0.0</td>\n",
       "      <td>0.0</td>\n",
       "      <td>0.0</td>\n",
       "      <td>0.0</td>\n",
       "      <td>0.033333</td>\n",
       "      <td>0.000000</td>\n",
       "      <td>0.011111</td>\n",
       "      <td>0.0</td>\n",
       "      <td>0.011111</td>\n",
       "      <td>...</td>\n",
       "      <td>0.000</td>\n",
       "      <td>0.0</td>\n",
       "      <td>0.00</td>\n",
       "      <td>0.0</td>\n",
       "      <td>0.0</td>\n",
       "      <td>0.000</td>\n",
       "      <td>0.0</td>\n",
       "      <td>0.00</td>\n",
       "      <td>0.000</td>\n",
       "      <td>0.011111</td>\n",
       "    </tr>\n",
       "    <tr>\n",
       "      <td>1</td>\n",
       "      <td>33603</td>\n",
       "      <td>0.0</td>\n",
       "      <td>0.0</td>\n",
       "      <td>0.0</td>\n",
       "      <td>0.0</td>\n",
       "      <td>0.000000</td>\n",
       "      <td>0.055556</td>\n",
       "      <td>0.000000</td>\n",
       "      <td>0.0</td>\n",
       "      <td>0.111111</td>\n",
       "      <td>...</td>\n",
       "      <td>0.000</td>\n",
       "      <td>0.0</td>\n",
       "      <td>0.00</td>\n",
       "      <td>0.0</td>\n",
       "      <td>0.0</td>\n",
       "      <td>0.000</td>\n",
       "      <td>0.0</td>\n",
       "      <td>0.00</td>\n",
       "      <td>0.000</td>\n",
       "      <td>0.000000</td>\n",
       "    </tr>\n",
       "    <tr>\n",
       "      <td>2</td>\n",
       "      <td>33604</td>\n",
       "      <td>0.0</td>\n",
       "      <td>0.0</td>\n",
       "      <td>0.0</td>\n",
       "      <td>0.0</td>\n",
       "      <td>0.025000</td>\n",
       "      <td>0.000000</td>\n",
       "      <td>0.000000</td>\n",
       "      <td>0.0</td>\n",
       "      <td>0.000000</td>\n",
       "      <td>...</td>\n",
       "      <td>0.025</td>\n",
       "      <td>0.0</td>\n",
       "      <td>0.00</td>\n",
       "      <td>0.0</td>\n",
       "      <td>0.0</td>\n",
       "      <td>0.025</td>\n",
       "      <td>0.0</td>\n",
       "      <td>0.00</td>\n",
       "      <td>0.025</td>\n",
       "      <td>0.250000</td>\n",
       "    </tr>\n",
       "    <tr>\n",
       "      <td>3</td>\n",
       "      <td>33605</td>\n",
       "      <td>0.0</td>\n",
       "      <td>0.0</td>\n",
       "      <td>0.0</td>\n",
       "      <td>0.0</td>\n",
       "      <td>0.083333</td>\n",
       "      <td>0.000000</td>\n",
       "      <td>0.000000</td>\n",
       "      <td>0.0</td>\n",
       "      <td>0.000000</td>\n",
       "      <td>...</td>\n",
       "      <td>0.000</td>\n",
       "      <td>0.0</td>\n",
       "      <td>0.00</td>\n",
       "      <td>0.0</td>\n",
       "      <td>0.0</td>\n",
       "      <td>0.000</td>\n",
       "      <td>0.0</td>\n",
       "      <td>0.00</td>\n",
       "      <td>0.000</td>\n",
       "      <td>0.000000</td>\n",
       "    </tr>\n",
       "    <tr>\n",
       "      <td>4</td>\n",
       "      <td>33606</td>\n",
       "      <td>0.0</td>\n",
       "      <td>0.0</td>\n",
       "      <td>0.0</td>\n",
       "      <td>0.0</td>\n",
       "      <td>0.040000</td>\n",
       "      <td>0.000000</td>\n",
       "      <td>0.000000</td>\n",
       "      <td>0.0</td>\n",
       "      <td>0.000000</td>\n",
       "      <td>...</td>\n",
       "      <td>0.000</td>\n",
       "      <td>0.0</td>\n",
       "      <td>0.02</td>\n",
       "      <td>0.0</td>\n",
       "      <td>0.0</td>\n",
       "      <td>0.020</td>\n",
       "      <td>0.0</td>\n",
       "      <td>0.02</td>\n",
       "      <td>0.000</td>\n",
       "      <td>0.000000</td>\n",
       "    </tr>\n",
       "  </tbody>\n",
       "</table>\n",
       "<p>5 rows × 178 columns</p>\n",
       "</div>"
      ],
      "text/plain": [
       "  Zip_Code  Accessories Store  Airport  Airport Lounge  Airport Service  \\\n",
       "0    33602                0.0      0.0             0.0              0.0   \n",
       "1    33603                0.0      0.0             0.0              0.0   \n",
       "2    33604                0.0      0.0             0.0              0.0   \n",
       "3    33605                0.0      0.0             0.0              0.0   \n",
       "4    33606                0.0      0.0             0.0              0.0   \n",
       "\n",
       "   American Restaurant  Antique Shop  Aquarium  Arcade  Art Gallery  ...  \\\n",
       "0             0.033333      0.000000  0.011111     0.0     0.011111  ...   \n",
       "1             0.000000      0.055556  0.000000     0.0     0.111111  ...   \n",
       "2             0.025000      0.000000  0.000000     0.0     0.000000  ...   \n",
       "3             0.083333      0.000000  0.000000     0.0     0.000000  ...   \n",
       "4             0.040000      0.000000  0.000000     0.0     0.000000  ...   \n",
       "\n",
       "   Vegetarian / Vegan Restaurant  Video Game Store  Video Store  \\\n",
       "0                          0.000               0.0         0.00   \n",
       "1                          0.000               0.0         0.00   \n",
       "2                          0.025               0.0         0.00   \n",
       "3                          0.000               0.0         0.00   \n",
       "4                          0.000               0.0         0.02   \n",
       "\n",
       "   Vietnamese Restaurant  Waste Facility  Wine Bar  Wings Joint  \\\n",
       "0                    0.0             0.0     0.000          0.0   \n",
       "1                    0.0             0.0     0.000          0.0   \n",
       "2                    0.0             0.0     0.025          0.0   \n",
       "3                    0.0             0.0     0.000          0.0   \n",
       "4                    0.0             0.0     0.020          0.0   \n",
       "\n",
       "   Women's Store    Zoo  Zoo Exhibit  \n",
       "0           0.00  0.000     0.011111  \n",
       "1           0.00  0.000     0.000000  \n",
       "2           0.00  0.025     0.250000  \n",
       "3           0.00  0.000     0.000000  \n",
       "4           0.02  0.000     0.000000  \n",
       "\n",
       "[5 rows x 178 columns]"
      ]
     },
     "execution_count": 32,
     "metadata": {},
     "output_type": "execute_result"
    }
   ],
   "source": [
    "tampa_grouped = tampa_onehot.groupby('Zip_Code').mean().reset_index()\n",
    "tampa_grouped.head()"
   ]
  },
  {
   "cell_type": "markdown",
   "metadata": {},
   "source": [
    "Next we will determine the five most frequent venues within a borough to describe a neighborhood 'type', and group the borough by type symilarity. We begin by creating a function that will return the most common venues for each zip code. "
   ]
  },
  {
   "cell_type": "code",
   "execution_count": 33,
   "metadata": {},
   "outputs": [],
   "source": [
    "def return_most_common_venues(row, num_top_venues):\n",
    "    row_categories = row.iloc[1:]\n",
    "    row_categories_sorted = row_categories.sort_values(ascending=False)\n",
    "    \n",
    "    return row_categories_sorted.index.values[0:num_top_venues]"
   ]
  },
  {
   "cell_type": "code",
   "execution_count": 34,
   "metadata": {
    "scrolled": true
   },
   "outputs": [
    {
     "data": {
      "text/html": [
       "<style  type=\"text/css\" >\n",
       "    #T_d74e9626_2b36_11ea_b1ae_9cb6d0c39630row0_col0 {\n",
       "            color:  black;\n",
       "        }    #T_d74e9626_2b36_11ea_b1ae_9cb6d0c39630row0_col1 {\n",
       "            color:  black;\n",
       "        }    #T_d74e9626_2b36_11ea_b1ae_9cb6d0c39630row0_col2 {\n",
       "            color:  red;\n",
       "        }    #T_d74e9626_2b36_11ea_b1ae_9cb6d0c39630row0_col3 {\n",
       "            color:  black;\n",
       "        }    #T_d74e9626_2b36_11ea_b1ae_9cb6d0c39630row0_col4 {\n",
       "            color:  black;\n",
       "        }    #T_d74e9626_2b36_11ea_b1ae_9cb6d0c39630row0_col5 {\n",
       "            color:  black;\n",
       "        }    #T_d74e9626_2b36_11ea_b1ae_9cb6d0c39630row1_col0 {\n",
       "            color:  black;\n",
       "        }    #T_d74e9626_2b36_11ea_b1ae_9cb6d0c39630row1_col1 {\n",
       "            color:  black;\n",
       "        }    #T_d74e9626_2b36_11ea_b1ae_9cb6d0c39630row1_col2 {\n",
       "            color:  black;\n",
       "        }    #T_d74e9626_2b36_11ea_b1ae_9cb6d0c39630row1_col3 {\n",
       "            color:  red;\n",
       "        }    #T_d74e9626_2b36_11ea_b1ae_9cb6d0c39630row1_col4 {\n",
       "            color:  black;\n",
       "        }    #T_d74e9626_2b36_11ea_b1ae_9cb6d0c39630row1_col5 {\n",
       "            color:  black;\n",
       "        }    #T_d74e9626_2b36_11ea_b1ae_9cb6d0c39630row2_col0 {\n",
       "            color:  black;\n",
       "        }    #T_d74e9626_2b36_11ea_b1ae_9cb6d0c39630row2_col1 {\n",
       "            color:  black;\n",
       "        }    #T_d74e9626_2b36_11ea_b1ae_9cb6d0c39630row2_col2 {\n",
       "            color:  red;\n",
       "        }    #T_d74e9626_2b36_11ea_b1ae_9cb6d0c39630row2_col3 {\n",
       "            color:  black;\n",
       "        }    #T_d74e9626_2b36_11ea_b1ae_9cb6d0c39630row2_col4 {\n",
       "            color:  black;\n",
       "        }    #T_d74e9626_2b36_11ea_b1ae_9cb6d0c39630row2_col5 {\n",
       "            color:  black;\n",
       "        }    #T_d74e9626_2b36_11ea_b1ae_9cb6d0c39630row3_col0 {\n",
       "            color:  black;\n",
       "        }    #T_d74e9626_2b36_11ea_b1ae_9cb6d0c39630row3_col1 {\n",
       "            color:  red;\n",
       "        }    #T_d74e9626_2b36_11ea_b1ae_9cb6d0c39630row3_col2 {\n",
       "            color:  black;\n",
       "        }    #T_d74e9626_2b36_11ea_b1ae_9cb6d0c39630row3_col3 {\n",
       "            color:  black;\n",
       "        }    #T_d74e9626_2b36_11ea_b1ae_9cb6d0c39630row3_col4 {\n",
       "            color:  black;\n",
       "        }    #T_d74e9626_2b36_11ea_b1ae_9cb6d0c39630row3_col5 {\n",
       "            color:  black;\n",
       "        }    #T_d74e9626_2b36_11ea_b1ae_9cb6d0c39630row4_col0 {\n",
       "            color:  black;\n",
       "        }    #T_d74e9626_2b36_11ea_b1ae_9cb6d0c39630row4_col1 {\n",
       "            color:  red;\n",
       "        }    #T_d74e9626_2b36_11ea_b1ae_9cb6d0c39630row4_col2 {\n",
       "            color:  black;\n",
       "        }    #T_d74e9626_2b36_11ea_b1ae_9cb6d0c39630row4_col3 {\n",
       "            color:  black;\n",
       "        }    #T_d74e9626_2b36_11ea_b1ae_9cb6d0c39630row4_col4 {\n",
       "            color:  black;\n",
       "        }    #T_d74e9626_2b36_11ea_b1ae_9cb6d0c39630row4_col5 {\n",
       "            color:  black;\n",
       "        }</style><table id=\"T_d74e9626_2b36_11ea_b1ae_9cb6d0c39630\" ><thead>    <tr>        <th class=\"blank level0\" ></th>        <th class=\"col_heading level0 col0\" >Zip_Code</th>        <th class=\"col_heading level0 col1\" >1st Most Common Venue</th>        <th class=\"col_heading level0 col2\" >2nd Most Common Venue</th>        <th class=\"col_heading level0 col3\" >3rd Most Common Venue</th>        <th class=\"col_heading level0 col4\" >4th Most Common Venue</th>        <th class=\"col_heading level0 col5\" >5th Most Common Venue</th>    </tr></thead><tbody>\n",
       "                <tr>\n",
       "                        <th id=\"T_d74e9626_2b36_11ea_b1ae_9cb6d0c39630level0_row0\" class=\"row_heading level0 row0\" >0</th>\n",
       "                        <td id=\"T_d74e9626_2b36_11ea_b1ae_9cb6d0c39630row0_col0\" class=\"data row0 col0\" >33602</td>\n",
       "                        <td id=\"T_d74e9626_2b36_11ea_b1ae_9cb6d0c39630row0_col1\" class=\"data row0 col1\" >Bar</td>\n",
       "                        <td id=\"T_d74e9626_2b36_11ea_b1ae_9cb6d0c39630row0_col2\" class=\"data row0 col2\" >Gym</td>\n",
       "                        <td id=\"T_d74e9626_2b36_11ea_b1ae_9cb6d0c39630row0_col3\" class=\"data row0 col3\" >Café</td>\n",
       "                        <td id=\"T_d74e9626_2b36_11ea_b1ae_9cb6d0c39630row0_col4\" class=\"data row0 col4\" >Coffee Shop</td>\n",
       "                        <td id=\"T_d74e9626_2b36_11ea_b1ae_9cb6d0c39630row0_col5\" class=\"data row0 col5\" >American Restaurant</td>\n",
       "            </tr>\n",
       "            <tr>\n",
       "                        <th id=\"T_d74e9626_2b36_11ea_b1ae_9cb6d0c39630level0_row1\" class=\"row_heading level0 row1\" >1</th>\n",
       "                        <td id=\"T_d74e9626_2b36_11ea_b1ae_9cb6d0c39630row1_col0\" class=\"data row1 col0\" >33603</td>\n",
       "                        <td id=\"T_d74e9626_2b36_11ea_b1ae_9cb6d0c39630row1_col1\" class=\"data row1 col1\" >Intersection</td>\n",
       "                        <td id=\"T_d74e9626_2b36_11ea_b1ae_9cb6d0c39630row1_col2\" class=\"data row1 col2\" >Art Gallery</td>\n",
       "                        <td id=\"T_d74e9626_2b36_11ea_b1ae_9cb6d0c39630row1_col3\" class=\"data row1 col3\" >Gym</td>\n",
       "                        <td id=\"T_d74e9626_2b36_11ea_b1ae_9cb6d0c39630row1_col4\" class=\"data row1 col4\" >Brewery</td>\n",
       "                        <td id=\"T_d74e9626_2b36_11ea_b1ae_9cb6d0c39630row1_col5\" class=\"data row1 col5\" >Thrift / Vintage Store</td>\n",
       "            </tr>\n",
       "            <tr>\n",
       "                        <th id=\"T_d74e9626_2b36_11ea_b1ae_9cb6d0c39630level0_row2\" class=\"row_heading level0 row2\" >2</th>\n",
       "                        <td id=\"T_d74e9626_2b36_11ea_b1ae_9cb6d0c39630row2_col0\" class=\"data row2 col0\" >33604</td>\n",
       "                        <td id=\"T_d74e9626_2b36_11ea_b1ae_9cb6d0c39630row2_col1\" class=\"data row2 col1\" >Zoo Exhibit</td>\n",
       "                        <td id=\"T_d74e9626_2b36_11ea_b1ae_9cb6d0c39630row2_col2\" class=\"data row2 col2\" >Gym</td>\n",
       "                        <td id=\"T_d74e9626_2b36_11ea_b1ae_9cb6d0c39630row2_col3\" class=\"data row2 col3\" >Coffee Shop</td>\n",
       "                        <td id=\"T_d74e9626_2b36_11ea_b1ae_9cb6d0c39630row2_col4\" class=\"data row2 col4\" >Bar</td>\n",
       "                        <td id=\"T_d74e9626_2b36_11ea_b1ae_9cb6d0c39630row2_col5\" class=\"data row2 col5\" >Pizza Place</td>\n",
       "            </tr>\n",
       "            <tr>\n",
       "                        <th id=\"T_d74e9626_2b36_11ea_b1ae_9cb6d0c39630level0_row3\" class=\"row_heading level0 row3\" >3</th>\n",
       "                        <td id=\"T_d74e9626_2b36_11ea_b1ae_9cb6d0c39630row3_col0\" class=\"data row3 col0\" >33605</td>\n",
       "                        <td id=\"T_d74e9626_2b36_11ea_b1ae_9cb6d0c39630row3_col1\" class=\"data row3 col1\" >Gym</td>\n",
       "                        <td id=\"T_d74e9626_2b36_11ea_b1ae_9cb6d0c39630row3_col2\" class=\"data row3 col2\" >Furniture / Home Store</td>\n",
       "                        <td id=\"T_d74e9626_2b36_11ea_b1ae_9cb6d0c39630row3_col3\" class=\"data row3 col3\" >Train Station</td>\n",
       "                        <td id=\"T_d74e9626_2b36_11ea_b1ae_9cb6d0c39630row3_col4\" class=\"data row3 col4\" >Moving Target</td>\n",
       "                        <td id=\"T_d74e9626_2b36_11ea_b1ae_9cb6d0c39630row3_col5\" class=\"data row3 col5\" >Southern / Soul Food Restaurant</td>\n",
       "            </tr>\n",
       "            <tr>\n",
       "                        <th id=\"T_d74e9626_2b36_11ea_b1ae_9cb6d0c39630level0_row4\" class=\"row_heading level0 row4\" >4</th>\n",
       "                        <td id=\"T_d74e9626_2b36_11ea_b1ae_9cb6d0c39630row4_col0\" class=\"data row4 col0\" >33606</td>\n",
       "                        <td id=\"T_d74e9626_2b36_11ea_b1ae_9cb6d0c39630row4_col1\" class=\"data row4 col1\" >Gym</td>\n",
       "                        <td id=\"T_d74e9626_2b36_11ea_b1ae_9cb6d0c39630row4_col2\" class=\"data row4 col2\" >Coffee Shop</td>\n",
       "                        <td id=\"T_d74e9626_2b36_11ea_b1ae_9cb6d0c39630row4_col3\" class=\"data row4 col3\" >Furniture / Home Store</td>\n",
       "                        <td id=\"T_d74e9626_2b36_11ea_b1ae_9cb6d0c39630row4_col4\" class=\"data row4 col4\" >Pizza Place</td>\n",
       "                        <td id=\"T_d74e9626_2b36_11ea_b1ae_9cb6d0c39630row4_col5\" class=\"data row4 col5\" >American Restaurant</td>\n",
       "            </tr>\n",
       "    </tbody></table>"
      ],
      "text/plain": [
       "<pandas.io.formats.style.Styler at 0x2ba6fb6e508>"
      ]
     },
     "execution_count": 34,
     "metadata": {},
     "output_type": "execute_result"
    }
   ],
   "source": [
    "num_top_venues = 5\n",
    "\n",
    "indicators = ['st', 'nd', 'rd']\n",
    "\n",
    "# Create columns according to number of top venues\n",
    "columns = ['Zip_Code']\n",
    "for ind in np.arange(num_top_venues):\n",
    "    try:\n",
    "        columns.append('{}{} Most Common Venue'.format(ind+1, indicators[ind]))\n",
    "    except:\n",
    "        columns.append('{}th Most Common Venue'.format(ind+1))\n",
    "\n",
    "# Create a new dataframe\n",
    "zip_venues_sorted = pd.DataFrame(columns=columns)\n",
    "zip_venues_sorted['Zip_Code'] = tampa_grouped['Zip_Code']\n",
    "\n",
    "for ind in np.arange(tampa_grouped.shape[0]):\n",
    "    zip_venues_sorted.iloc[ind, 1:] = return_most_common_venues(tampa_grouped.iloc[ind, :], num_top_venues)\n",
    "\n",
    "# Define a function to color the text red if a venue type is \"Gym\"\n",
    "def color_gym_red(val):\n",
    "    color = 'red' if val == \"Gym\" else 'black'\n",
    "    return 'color: %s' % color\n",
    "\n",
    "# Display the first five records of the dataframe, with \"Gym\" highlighted red.\n",
    "zip_venues_sorted.head().style.applymap(color_gym_red)"
   ]
  },
  {
   "cell_type": "markdown",
   "metadata": {},
   "source": [
    "Now that we can see what the five most common venues are in each Zip Code, we can eliminate those Zip Codes with 'gym' type venues in the top five."
   ]
  },
  {
   "cell_type": "code",
   "execution_count": 35,
   "metadata": {
    "scrolled": true
   },
   "outputs": [
    {
     "data": {
      "text/html": [
       "<div>\n",
       "<style scoped>\n",
       "    .dataframe tbody tr th:only-of-type {\n",
       "        vertical-align: middle;\n",
       "    }\n",
       "\n",
       "    .dataframe tbody tr th {\n",
       "        vertical-align: top;\n",
       "    }\n",
       "\n",
       "    .dataframe thead th {\n",
       "        text-align: right;\n",
       "    }\n",
       "</style>\n",
       "<table border=\"1\" class=\"dataframe\">\n",
       "  <thead>\n",
       "    <tr style=\"text-align: right;\">\n",
       "      <th></th>\n",
       "      <th>Zip_Code</th>\n",
       "      <th>1st Most Common Venue</th>\n",
       "      <th>2nd Most Common Venue</th>\n",
       "      <th>3rd Most Common Venue</th>\n",
       "      <th>4th Most Common Venue</th>\n",
       "      <th>5th Most Common Venue</th>\n",
       "    </tr>\n",
       "  </thead>\n",
       "  <tbody>\n",
       "    <tr>\n",
       "      <td>5</td>\n",
       "      <td>33607</td>\n",
       "      <td>Scenic Lookout</td>\n",
       "      <td>Harbor / Marina</td>\n",
       "      <td>Food Truck</td>\n",
       "      <td>Karaoke Bar</td>\n",
       "      <td>Mobile Phone Shop</td>\n",
       "    </tr>\n",
       "    <tr>\n",
       "      <td>6</td>\n",
       "      <td>33609</td>\n",
       "      <td>Clothing Store</td>\n",
       "      <td>Women's Store</td>\n",
       "      <td>Sandwich Place</td>\n",
       "      <td>Lingerie Store</td>\n",
       "      <td>Department Store</td>\n",
       "    </tr>\n",
       "    <tr>\n",
       "      <td>7</td>\n",
       "      <td>33610</td>\n",
       "      <td>Grocery Store</td>\n",
       "      <td>Discount Store</td>\n",
       "      <td>Restaurant</td>\n",
       "      <td>Video Store</td>\n",
       "      <td>Spa</td>\n",
       "    </tr>\n",
       "    <tr>\n",
       "      <td>8</td>\n",
       "      <td>33611</td>\n",
       "      <td>Turkish Restaurant</td>\n",
       "      <td>Sandwich Place</td>\n",
       "      <td>Korean Restaurant</td>\n",
       "      <td>Food</td>\n",
       "      <td>Motel</td>\n",
       "    </tr>\n",
       "    <tr>\n",
       "      <td>15</td>\n",
       "      <td>33618</td>\n",
       "      <td>Pizza Place</td>\n",
       "      <td>American Restaurant</td>\n",
       "      <td>Massage Studio</td>\n",
       "      <td>Coffee Shop</td>\n",
       "      <td>Hobby Shop</td>\n",
       "    </tr>\n",
       "    <tr>\n",
       "      <td>19</td>\n",
       "      <td>33625</td>\n",
       "      <td>Fast Food Restaurant</td>\n",
       "      <td>Nail Salon</td>\n",
       "      <td>Gas Station</td>\n",
       "      <td>Big Box Store</td>\n",
       "      <td>Coffee Shop</td>\n",
       "    </tr>\n",
       "    <tr>\n",
       "      <td>20</td>\n",
       "      <td>33626</td>\n",
       "      <td>Insurance Office</td>\n",
       "      <td>Home Service</td>\n",
       "      <td>Zoo Exhibit</td>\n",
       "      <td>Event Service</td>\n",
       "      <td>Fountain</td>\n",
       "    </tr>\n",
       "  </tbody>\n",
       "</table>\n",
       "</div>"
      ],
      "text/plain": [
       "   Zip_Code 1st Most Common Venue 2nd Most Common Venue 3rd Most Common Venue  \\\n",
       "5     33607        Scenic Lookout       Harbor / Marina            Food Truck   \n",
       "6     33609        Clothing Store         Women's Store        Sandwich Place   \n",
       "7     33610         Grocery Store        Discount Store            Restaurant   \n",
       "8     33611    Turkish Restaurant        Sandwich Place     Korean Restaurant   \n",
       "15    33618           Pizza Place   American Restaurant        Massage Studio   \n",
       "19    33625  Fast Food Restaurant            Nail Salon           Gas Station   \n",
       "20    33626      Insurance Office          Home Service           Zoo Exhibit   \n",
       "\n",
       "   4th Most Common Venue 5th Most Common Venue  \n",
       "5            Karaoke Bar     Mobile Phone Shop  \n",
       "6         Lingerie Store      Department Store  \n",
       "7            Video Store                   Spa  \n",
       "8                   Food                 Motel  \n",
       "15           Coffee Shop            Hobby Shop  \n",
       "19         Big Box Store           Coffee Shop  \n",
       "20         Event Service              Fountain  "
      ]
     },
     "execution_count": 35,
     "metadata": {},
     "output_type": "execute_result"
    }
   ],
   "source": [
    "zip_venues_reduced = zip_venues_sorted[(zip_venues_sorted['1st Most Common Venue'] != 'Gym') & (zip_venues_sorted['2nd Most Common Venue'] != 'Gym') & \n",
    "                                       (zip_venues_sorted['3rd Most Common Venue'] != 'Gym') & (zip_venues_sorted['4th Most Common Venue'] != 'Gym') &\n",
    "                                       (zip_venues_sorted['5th Most Common Venue'] != 'Gym')]\n",
    "zip_venues_reduced"
   ]
  },
  {
   "cell_type": "markdown",
   "metadata": {},
   "source": [
    "Now the list only includes Zip Codes where 'gym' type venues are not one of the five most frequent venue types. We can sort this list by descending frequency of gyms. Where the gym frequencies are equal, records are sorted by Zip_Code in ascending order."
   ]
  },
  {
   "cell_type": "code",
   "execution_count": 36,
   "metadata": {},
   "outputs": [
    {
     "data": {
      "text/html": [
       "<div>\n",
       "<style scoped>\n",
       "    .dataframe tbody tr th:only-of-type {\n",
       "        vertical-align: middle;\n",
       "    }\n",
       "\n",
       "    .dataframe tbody tr th {\n",
       "        vertical-align: top;\n",
       "    }\n",
       "\n",
       "    .dataframe thead th {\n",
       "        text-align: right;\n",
       "    }\n",
       "</style>\n",
       "<table border=\"1\" class=\"dataframe\">\n",
       "  <thead>\n",
       "    <tr style=\"text-align: right;\">\n",
       "      <th></th>\n",
       "      <th>Zip_Code</th>\n",
       "      <th>Gym</th>\n",
       "    </tr>\n",
       "  </thead>\n",
       "  <tbody>\n",
       "    <tr>\n",
       "      <td>5</td>\n",
       "      <td>33607</td>\n",
       "      <td>0.000000</td>\n",
       "    </tr>\n",
       "    <tr>\n",
       "      <td>6</td>\n",
       "      <td>33609</td>\n",
       "      <td>0.000000</td>\n",
       "    </tr>\n",
       "    <tr>\n",
       "      <td>7</td>\n",
       "      <td>33610</td>\n",
       "      <td>0.000000</td>\n",
       "    </tr>\n",
       "    <tr>\n",
       "      <td>19</td>\n",
       "      <td>33625</td>\n",
       "      <td>0.000000</td>\n",
       "    </tr>\n",
       "    <tr>\n",
       "      <td>20</td>\n",
       "      <td>33626</td>\n",
       "      <td>0.000000</td>\n",
       "    </tr>\n",
       "    <tr>\n",
       "      <td>15</td>\n",
       "      <td>33618</td>\n",
       "      <td>0.025641</td>\n",
       "    </tr>\n",
       "    <tr>\n",
       "      <td>8</td>\n",
       "      <td>33611</td>\n",
       "      <td>0.066667</td>\n",
       "    </tr>\n",
       "  </tbody>\n",
       "</table>\n",
       "</div>"
      ],
      "text/plain": [
       "   Zip_Code       Gym\n",
       "5     33607  0.000000\n",
       "6     33609  0.000000\n",
       "7     33610  0.000000\n",
       "19    33625  0.000000\n",
       "20    33626  0.000000\n",
       "15    33618  0.025641\n",
       "8     33611  0.066667"
      ]
     },
     "execution_count": 36,
     "metadata": {},
     "output_type": "execute_result"
    }
   ],
   "source": [
    "index = zip_venues_reduced.index\n",
    "locations = tampa_grouped[['Zip_Code','Gym']].iloc[index].sort_values(by=['Gym'], ascending=True)\n",
    "locations"
   ]
  },
  {
   "cell_type": "markdown",
   "metadata": {},
   "source": [
    "Now that we have the reduced list of zip codes, we join it to our location dataframe, rename the 'Gym' column as 'Gym Frequency', and reset the indeces."
   ]
  },
  {
   "cell_type": "code",
   "execution_count": 37,
   "metadata": {
    "scrolled": true
   },
   "outputs": [
    {
     "data": {
      "text/html": [
       "<div>\n",
       "<style scoped>\n",
       "    .dataframe tbody tr th:only-of-type {\n",
       "        vertical-align: middle;\n",
       "    }\n",
       "\n",
       "    .dataframe tbody tr th {\n",
       "        vertical-align: top;\n",
       "    }\n",
       "\n",
       "    .dataframe thead th {\n",
       "        text-align: right;\n",
       "    }\n",
       "</style>\n",
       "<table border=\"1\" class=\"dataframe\">\n",
       "  <thead>\n",
       "    <tr style=\"text-align: right;\">\n",
       "      <th></th>\n",
       "      <th>Zip_Code</th>\n",
       "      <th>Gym Frequency</th>\n",
       "      <th>City</th>\n",
       "      <th>County</th>\n",
       "      <th>Type</th>\n",
       "      <th>Neighborhood</th>\n",
       "      <th>Latitude</th>\n",
       "      <th>Longitude</th>\n",
       "    </tr>\n",
       "  </thead>\n",
       "  <tbody>\n",
       "    <tr>\n",
       "      <td>0</td>\n",
       "      <td>33607</td>\n",
       "      <td>0.000000</td>\n",
       "      <td>Tampa</td>\n",
       "      <td>Hillsborough</td>\n",
       "      <td>Standard</td>\n",
       "      <td>Tampa</td>\n",
       "      <td>27.973131</td>\n",
       "      <td>-82.585196</td>\n",
       "    </tr>\n",
       "    <tr>\n",
       "      <td>1</td>\n",
       "      <td>33609</td>\n",
       "      <td>0.000000</td>\n",
       "      <td>Tampa</td>\n",
       "      <td>Hillsborough</td>\n",
       "      <td>Standard</td>\n",
       "      <td>Palma Ceia</td>\n",
       "      <td>27.944813</td>\n",
       "      <td>-82.536276</td>\n",
       "    </tr>\n",
       "    <tr>\n",
       "      <td>2</td>\n",
       "      <td>33610</td>\n",
       "      <td>0.000000</td>\n",
       "      <td>Tampa</td>\n",
       "      <td>Hillsborough</td>\n",
       "      <td>Standard</td>\n",
       "      <td>Ybor City</td>\n",
       "      <td>27.977944</td>\n",
       "      <td>-82.442975</td>\n",
       "    </tr>\n",
       "    <tr>\n",
       "      <td>3</td>\n",
       "      <td>33625</td>\n",
       "      <td>0.000000</td>\n",
       "      <td>Tampa</td>\n",
       "      <td>Hillsborough</td>\n",
       "      <td>Standard</td>\n",
       "      <td>Hillsborough County</td>\n",
       "      <td>28.068327</td>\n",
       "      <td>-82.557302</td>\n",
       "    </tr>\n",
       "    <tr>\n",
       "      <td>4</td>\n",
       "      <td>33626</td>\n",
       "      <td>0.000000</td>\n",
       "      <td>Tampa</td>\n",
       "      <td>Hillsborough</td>\n",
       "      <td>Standard</td>\n",
       "      <td>Hillsborough County</td>\n",
       "      <td>28.057031</td>\n",
       "      <td>-82.610797</td>\n",
       "    </tr>\n",
       "    <tr>\n",
       "      <td>5</td>\n",
       "      <td>33618</td>\n",
       "      <td>0.025641</td>\n",
       "      <td>Tampa</td>\n",
       "      <td>Hillsborough</td>\n",
       "      <td>Standard</td>\n",
       "      <td>Mullis City</td>\n",
       "      <td>28.039589</td>\n",
       "      <td>-82.508293</td>\n",
       "    </tr>\n",
       "    <tr>\n",
       "      <td>6</td>\n",
       "      <td>33611</td>\n",
       "      <td>0.066667</td>\n",
       "      <td>Tampa</td>\n",
       "      <td>Hillsborough</td>\n",
       "      <td>Standard</td>\n",
       "      <td>Palma Ceia</td>\n",
       "      <td>27.880332</td>\n",
       "      <td>-82.498916</td>\n",
       "    </tr>\n",
       "  </tbody>\n",
       "</table>\n",
       "</div>"
      ],
      "text/plain": [
       "  Zip_Code  Gym Frequency   City        County      Type         Neighborhood  \\\n",
       "0    33607       0.000000  Tampa  Hillsborough  Standard                Tampa   \n",
       "1    33609       0.000000  Tampa  Hillsborough  Standard           Palma Ceia   \n",
       "2    33610       0.000000  Tampa  Hillsborough  Standard            Ybor City   \n",
       "3    33625       0.000000  Tampa  Hillsborough  Standard  Hillsborough County   \n",
       "4    33626       0.000000  Tampa  Hillsborough  Standard  Hillsborough County   \n",
       "5    33618       0.025641  Tampa  Hillsborough  Standard          Mullis City   \n",
       "6    33611       0.066667  Tampa  Hillsborough  Standard           Palma Ceia   \n",
       "\n",
       "    Latitude  Longitude  \n",
       "0  27.973131 -82.585196  \n",
       "1  27.944813 -82.536276  \n",
       "2  27.977944 -82.442975  \n",
       "3  28.068327 -82.557302  \n",
       "4  28.057031 -82.610797  \n",
       "5  28.039589 -82.508293  \n",
       "6  27.880332 -82.498916  "
      ]
     },
     "execution_count": 37,
     "metadata": {},
     "output_type": "execute_result"
    }
   ],
   "source": [
    "cols = ['Zip_Code']\n",
    "locations = locations.join(df.set_index(cols), on=cols)\n",
    "locations = locations.rename(columns={\"Gym\": \"Gym Frequency\"}).reset_index(drop=True)\n",
    "locations"
   ]
  },
  {
   "cell_type": "markdown",
   "metadata": {},
   "source": [
    "Now we can display the locations on a map. Selecting a marker on the map will display that zip code and the frequency of 'gym' type venues within 1km of the zip code central point."
   ]
  },
  {
   "cell_type": "code",
   "execution_count": 38,
   "metadata": {},
   "outputs": [
    {
     "data": {
      "text/html": [
       "<div style=\"width:100%;\"><div style=\"position:relative;width:100%;height:0;padding-bottom:60%;\"><iframe src=\"data:text/html;charset=utf-8;base64,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\" style=\"position:absolute;width:100%;height:100%;left:0;top:0;border:none !important;\" allowfullscreen webkitallowfullscreen mozallowfullscreen></iframe></div></div>"
      ],
      "text/plain": [
       "<folium.folium.Map at 0x2ba6e076608>"
      ]
     },
     "execution_count": 38,
     "metadata": {},
     "output_type": "execute_result"
    }
   ],
   "source": [
    "# Create map\n",
    "map_locations = folium.Map(location=[tampa.latitude, tampa.longitude], zoom_start=11)\n",
    "\n",
    "# Set color scheme for the clusters\n",
    "x = np.arange(locations.shape[0])\n",
    "ys = [i + x + (i*x)**2 for i in range(locations.shape[0])]\n",
    "colors_array = cm.rainbow(np.linspace(0, 1, len(ys)))\n",
    "rainbow = [colors.rgb2hex(i) for i in colors_array]\n",
    "\n",
    "# Add markers to the map\n",
    "markers_colors = []\n",
    "count = 0\n",
    "for lat, lon, poi, freq, nbh in zip(locations['Latitude'], locations['Longitude'], locations['Zip_Code'], \n",
    "                                    locations['Gym Frequency'], locations['Neighborhood']):\n",
    "    label = folium.Popup('Neigborhood: ' + str(nbh) + ' / Zip Code: ' + str(poi) + ' / Gym Frequency: ' + str(freq), \n",
    "                         parse_html=False,)\n",
    "    count = count + 1\n",
    "    folium.CircleMarker(\n",
    "        [lat, lon],\n",
    "        radius=7,\n",
    "        popup=label,\n",
    "        color=rainbow[count-1],\n",
    "        fill=True,\n",
    "        fill_color=rainbow[count-1],\n",
    "        fill_opacity=0.7).add_to(map_locations)\n",
    "       \n",
    "map_locations"
   ]
  },
  {
   "cell_type": "code",
   "execution_count": 39,
   "metadata": {},
   "outputs": [],
   "source": [
    "url = 'https://opendata.arcgis.com/datasets/d356e19e0fb34524b54d189fafb0d675_0.geojson'\n",
    "with urllib.request.urlopen(url) as url:\n",
    "    plt = json.loads(url.read().decode())\n",
    "#plt #If uncommented the JSON will be displayed, and is potentially very large."
   ]
  },
  {
   "cell_type": "markdown",
   "metadata": {},
   "source": [
    "Using the GeoJSON file from https://opendata.arcgis.com/datasets/d356e19e0fb34524b54d189fafb0d675_0.geojson polygons for the Zip Codes of intereset can be defined using the latitude and longitude coordinates. Below we create a list of coordinates for both latitudes and longitudes, then place these lists at the end of the dataframe."
   ]
  },
  {
   "cell_type": "code",
   "execution_count": 40,
   "metadata": {
    "scrolled": true
   },
   "outputs": [],
   "source": [
    "for i in reversed(range(len(plt['features']))):\n",
    "    count = locations.shape[0]\n",
    "    for j in range(locations.shape[0]):\n",
    "        if plt['features'][i]['properties']['Zip_Code'] != locations['Zip_Code'][j]:\n",
    "            count = count - 1\n",
    "            if count == 0:\n",
    "                del plt['features'][i]\n",
    "                break"
   ]
  },
  {
   "cell_type": "markdown",
   "metadata": {},
   "source": [
    "## Results <a name=\"results\"></a>"
   ]
  },
  {
   "cell_type": "markdown",
   "metadata": {},
   "source": [
    "Now the polygons for the areas represented by the zip code can be overlaid on the map."
   ]
  },
  {
   "cell_type": "code",
   "execution_count": 41,
   "metadata": {},
   "outputs": [
    {
     "data": {
      "text/html": [
       "<div style=\"width:100%;\"><div style=\"position:relative;width:100%;height:0;padding-bottom:60%;\"><iframe src=\"data:text/html;charset=utf-8;base64,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\" style=\"position:absolute;width:100%;height:100%;left:0;top:0;border:none !important;\" allowfullscreen webkitallowfullscreen mozallowfullscreen></iframe></div></div>"
      ],
      "text/plain": [
       "<folium.folium.Map at 0x2ba700a94c8>"
      ]
     },
     "execution_count": 41,
     "metadata": {},
     "output_type": "execute_result"
    }
   ],
   "source": [
    "# Create map\n",
    "map_test = folium.Map(location=[tampa.latitude, tampa.longitude], zoom_start=11)\n",
    "\n",
    "# Add polygons to the map\n",
    "for i in range(len(plt['features'])):\n",
    "    ZIP = plt['features'][i]['properties']['Zip_Code']\n",
    "    neighborhood = locations.Neighborhood[locations[locations.Zip_Code == ZIP].index[0]]\n",
    "    zip_code = locations.Zip_Code[locations[locations.Zip_Code == ZIP].index[0]]\n",
    "    geojson = folium.GeoJson(\n",
    "        plt['features'][i],\n",
    "        name=neighborhood\n",
    "    )\n",
    "    popup = folium.Popup(neighborhood + \" \" + zip_code)\n",
    "    popup.add_to(geojson)\n",
    "    geojson.add_to(map_test)\n",
    "\n",
    "folium.LayerControl().add_to(map_test)\n",
    "\n",
    "map_test"
   ]
  },
  {
   "cell_type": "markdown",
   "metadata": {},
   "source": [
    "## Discussion <a name=\"discussion\"></a>"
   ]
  },
  {
   "cell_type": "markdown",
   "metadata": {},
   "source": [
    "Using this method the analyst is able to quickly gather and display location and venue information for the area of interest. With this data the analyst can categorize the areas by the types of venues in that are and the frequency with which they occur. This allows for a cursory analysis to narrow down the locations that may be good choices for a new gym facility.\n",
    "\n",
    "There are some drawbacks to this application. Primarily that the search for venues is conducted in a circular area of radius 1km from the coordinates pulled from the website https://www.zip-codes.com/state/fl.asp#zipcodes. These coordinates do not alwasy correspond to the geographic center of the area. If the coordinates map to a location within the zip code area that is in a remote section, there may not be many venues within 1km of the point. Also, some of the points may be less than 1km from the boundary. This may result in some venues from other zip codes being included with multiple zip codes.\n",
    "\n",
    "However, the strength of this methodology is that it is dynamic. As more venue infromation is added or modified within the FourSquare platform, the results of this analysis will take those changes into account when rerun."
   ]
  },
  {
   "cell_type": "markdown",
   "metadata": {},
   "source": [
    "## Conclusion <a name=\"conclusion\"></a>"
   ]
  },
  {
   "cell_type": "code",
   "execution_count": 42,
   "metadata": {},
   "outputs": [
    {
     "data": {
      "text/markdown": [
       "\n",
       "At the time of this model run, there were 7 zip codes that met the criteria for the new location. The customer can now focus their location serach to a few zip codes, saving time and money.\n"
      ],
      "text/plain": [
       "<IPython.core.display.Markdown object>"
      ]
     },
     "execution_count": 42,
     "metadata": {},
     "output_type": "execute_result"
    }
   ],
   "source": [
    "from IPython.display import Markdown\n",
    "zips = len(plt['features'])\n",
    "#Markdown(\"# Title\")\n",
    "Markdown(\"\"\"\n",
    "At the time of this model run, there were {zips} zip codes that met the criteria for the new location. The customer can now focus their location serach to a few zip codes, saving time and money.\n",
    "\"\"\".format(zips=zips))"
   ]
  }
 ],
 "metadata": {
  "kernelspec": {
   "display_name": "Python 3",
   "language": "python",
   "name": "python3"
  },
  "language_info": {
   "codemirror_mode": {
    "name": "ipython",
    "version": 3
   },
   "file_extension": ".py",
   "mimetype": "text/x-python",
   "name": "python",
   "nbconvert_exporter": "python",
   "pygments_lexer": "ipython3",
   "version": "3.7.4"
  }
 },
 "nbformat": 4,
 "nbformat_minor": 4
}
